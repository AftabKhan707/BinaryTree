{
 "cells": [
  {
   "cell_type": "code",
   "execution_count": 7,
   "id": "f29e0b52",
   "metadata": {},
   "outputs": [],
   "source": [
    "import requests\n",
    "from datetime import datetime\n",
    " \n",
    "base_cowin_url=\"https://cdn-api.co-vin.in/api/v2/appointment/sessions/public/calendarByDistrict\"\n",
    "api_url_telegram=\"https://api.telegram.org/bot1826463765:AAFjnssks0Cnssms_A/sendMessage?chat_id=@covid_vaccine_alert_jk&text=test\"\n",
    "now=datetime.now()\n",
    "today_date=now.strftime(\"%d-%m-%Y\")\n",
    "delhi_district_ids=[140,141,142,143,144,145,146,146,147,148,149,150]"
   ]
  },
  {
   "cell_type": "code",
   "execution_count": 8,
   "id": "f6d2e7eb",
   "metadata": {},
   "outputs": [
    {
     "name": "stdout",
     "output_type": "stream",
     "text": [
      "{\"errorCode\":\"APPOIN0016\",\"error\":\"Invalid District ID\"}\n"
     ]
    }
   ],
   "source": [
    "delhi_district_ids=[140,141,142,143]\n",
    "def fetch_data_from_cowin(district_id):\n",
    "    headers={'User-Agent':\"Mozilla/5.0 (X11; Linux x86_64) AppleWebKit/537.36 (KHTML, like Gecko) Chrome/94.0.4606.81 Safari/537.36\"}\n",
    "    query_params=\"?district_id={}&date={}\".format(district_id,today_date)\n",
    "    final_url=base_cowin_url+query_params\n",
    "    response=requests.get(final_url,headers=headers)\n",
    "    print(response.text)\n",
    "    \n",
    "def fetch_data_for_state(district_ids):\n",
    "    for district_id in district_ids:\n",
    "        fetch_data_from_cowin(district_id)\n",
    "        \n",
    "def extract_availability_data(response):\n",
    "    response_json=response.json()\n",
    "    for centre in response_json[\"centres\"]:\n",
    "        for session in centre['sessions']:\n",
    "            if session[\"available_capacity_dose1\"]> 0 and session[\"min_age_limit\"]==45:\n",
    "                message=\"Pincode:{},Name:{},Slots:{},Minimum Age:{}\".format(\n",
    "                  centre[\"pincode\"],centre[\"name\"],\n",
    "                  session[\"available_capacity_dose1\"],\n",
    "                  session[\"min_age_limit\"])\n",
    "                send_message_telegram(message)\n",
    "\n",
    "def send_message_telegram(message):\n",
    "    final_telegram_url=api_url_telegram.replace(\"groupid__\",group_id)\n",
    "    final_telegram_url=final_telegram_url+message\n",
    "    response=request.get(final_telegram_url)\n",
    "    \n",
    "\n",
    "def fetch_data_for_state(district_ids):\n",
    "    for district_id in district_ids:\n",
    "        fetch_data_from_cowin(district_id)\n",
    "        \n",
    "if __name__==\"__main__\":\n",
    "    fetch_data_from_cowin(delhi_district_ids)\n",
    "    \n",
    " "
   ]
  },
  {
   "cell_type": "code",
   "execution_count": null,
   "id": "8d63257d",
   "metadata": {},
   "outputs": [],
   "source": []
  }
 ],
 "metadata": {
  "kernelspec": {
   "display_name": "Python 3 (ipykernel)",
   "language": "python",
   "name": "python3"
  },
  "language_info": {
   "codemirror_mode": {
    "name": "ipython",
    "version": 3
   },
   "file_extension": ".py",
   "mimetype": "text/x-python",
   "name": "python",
   "nbconvert_exporter": "python",
   "pygments_lexer": "ipython3",
   "version": "3.8.10"
  }
 },
 "nbformat": 4,
 "nbformat_minor": 5
}
